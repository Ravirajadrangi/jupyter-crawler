{
 "cells": [
  {
   "cell_type": "code",
   "execution_count": 10,
   "metadata": {
    "collapsed": false
   },
   "outputs": [],
   "source": [
    "# -*- coding: utf-8 -*-\n",
    "import httplib\n",
    "import re\n",
    "\n",
    "engineUrl = 'www.google.com'\n",
    "searchPath = '/search?q='\n",
    "\n",
    "def search(searchStr, regex):\n",
    "    match = re.search(regex, searchStr)\n",
    "    # If-statement after search() tests if it succeeded\n",
    "    if match:                      \n",
    "        return match\n",
    "    else:\n",
    "        print 'did not find'\n",
    "\n",
    "def getKeywordCount(keyword):\n",
    "    connection = httplib.HTTPSConnection(engineUrl)\n",
    "    connection.request('GET', searchPath + keyword)\n",
    "    response = connection.getresponse()\n",
    "    resultStr = response.read()\n",
    "    connection.close()\n",
    "\n",
    "    prefix = 'About '\n",
    "    suffix = ' results'\n",
    "    regex = '([0-9,]+)'\n",
    "\n",
    "    countStr = search(resultStr, prefix+regex+suffix).group(1).replace(\",\", \"\")\n",
    "    return int(countStr)"
   ]
  },
  {
   "cell_type": "code",
   "execution_count": null,
   "metadata": {
    "collapsed": true
   },
   "outputs": [],
   "source": []
  }
 ],
 "metadata": {
  "kernelspec": {
   "display_name": "Python 2",
   "language": "python",
   "name": "python2"
  },
  "language_info": {
   "codemirror_mode": {
    "name": "ipython",
    "version": 2
   },
   "file_extension": ".py",
   "mimetype": "text/x-python",
   "name": "python",
   "nbconvert_exporter": "python",
   "pygments_lexer": "ipython2",
   "version": "2.7.5"
  }
 },
 "nbformat": 4,
 "nbformat_minor": 0
}
