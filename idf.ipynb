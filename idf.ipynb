{
 "cells": [
  {
   "cell_type": "code",
   "execution_count": 1,
   "metadata": {
    "collapsed": false
   },
   "outputs": [
    {
     "name": "stderr",
     "output_type": "stream",
     "text": [
      "/usr/lib/python2.7/site-packages/ipykernel/__main__.py:9: DeprecationWarning: ensure_index is deprecated. Use create_index instead.\n"
     ]
    },
    {
     "data": {
      "text/plain": [
       "u'word_1'"
      ]
     },
     "execution_count": 1,
     "metadata": {},
     "output_type": "execute_result"
    }
   ],
   "source": [
    "from google_utils import getKeywordCount\n",
    "from wordCount import wordCount\n",
    "import operator\n",
    "\n",
    "from pymongo import MongoClient\n",
    "con = MongoClient('127.0.0.1', 27017)\n",
    "db = con.article_connections\n",
    "wordCountCache = db.wcCache\n",
    "wordCountCache.ensure_index(\"word\")"
   ]
  },
  {
   "cell_type": "code",
   "execution_count": 2,
   "metadata": {
    "collapsed": false
   },
   "outputs": [],
   "source": [
    "import math\n",
    "def getCachedKeywordCount(word):\n",
    "    cachedWord = wordCountCache.find_one({\"word\":word})\n",
    "    if cachedWord:\n",
    "        return cachedWord[\"count\"]\n",
    "    count = getKeywordCount(word)\n",
    "    wordCountCache.insert({\"word\":word, \"count\":count})\n",
    "    return count\n",
    "\n",
    "def calidf(counts):\n",
    "    rst={}\n",
    "    totalArticleCount=getCachedKeywordCount(\"a\");\n",
    "    total = 0\n",
    "    for word, count in counts.iteritems():\n",
    "        print 'checking word: ' + word\n",
    "        total += count\n",
    "        if len(word) == 0:\n",
    "            continue\n",
    "        wordArtCount=getCachedKeywordCount(word)\n",
    "        tfidf = math.log(float(totalArticleCount)/(wordArtCount+1)) *count\n",
    "        rst[word] = tfidf\n",
    "\n",
    "    for word, count in rst.iteritems():\n",
    "        rst[word] = float(count)/total\n",
    "    return rst"
   ]
  },
  {
   "cell_type": "code",
   "execution_count": 3,
   "metadata": {
    "collapsed": false
   },
   "outputs": [
    {
     "name": "stdout",
     "output_type": "stream",
     "text": [
      "65\n"
     ]
    },
    {
     "data": {
      "text/plain": [
       "{u'_id': ObjectId('57090efdd46bf97f59c4a6ae'),\n",
       " u'content': u'\\nA: Good evening. My name is Fabio, I\\u2019ll be your waiter for tonight. May I take your order?\\nB: No, I\\u2019m still working on it. This menu is not even in English. What\\u2019s good here?\\nA: For you sir, I would recommend spaghetti and meatballs.\\nB: Does it come with coke and fries?\\nA:It comes with either soup or salad and a complimentary glass of wine, Sir.\\nB: I\\u2019ll go with the spaghetti and meatballs, salad and the wine.\\nA: Excellent choice, your order will be ready soon.\\nB: How soon is soon?\\nA: Twenty minutes?\\nB: You know what? I\\u2019ll just go grab a burger across the street.\\n',\n",
       " u'keyidfs': [[u'meatballs', 0.12526293854113515],\n",
       "  [u'ill', 0.1093198718545866],\n",
       "  [u'spaghetti', 0.10026686892797321],\n",
       "  [u'salad', 0.08426047251369591],\n",
       "  [u'soon', 0.0742841193509091],\n",
       "  [u'sir', 0.07059922252510009],\n",
       "  [u'wine', 0.06292273606070035],\n",
       "  [u'waiter', 0.05444196530550802],\n",
       "  [u'fries', 0.05175139835017631],\n",
       "  [u'complimentary', 0.05130232117600194]],\n",
       " u'title': u'Elementary \\u2010 Difficult Customer (B0001)'}"
      ]
     },
     "execution_count": 3,
     "metadata": {},
     "output_type": "execute_result"
    }
   ],
   "source": [
    "articles = db.englishpod\n",
    "print articles.count()\n",
    "articles.find_one()"
   ]
  },
  {
   "cell_type": "code",
   "execution_count": 4,
   "metadata": {
    "collapsed": false
   },
   "outputs": [
    {
     "name": "stdout",
     "output_type": "stream",
     "text": [
      "Elementary ‐ Difficult Customer (B0001) exists!\n",
      "Elementary ‐ Calling In Sick (B0002) exists!\n",
      "Elementary ‐Daily Life ‐ Hotel Upgrade (C0003) exists!\n",
      "Elementary ‐The Office ‐ I need an assistant! (C0004) exists!\n",
      "Elementary ‐Daily Life ‐ Cut In Line (C0005) exists!\n",
      "Elementary ‐ The Weekend ‐ Road Trip (C0006) exists!\n",
      "Elementary ‐ The Office ‐ Virus! (C0007) exists!\n",
      "Elementary ‐ Daily Life ‐ What’s your name again? (C0008) exists!\n",
      "Elementary ‐ The Weekend ‐ Silence please! (C0009) exists!\n",
      "Elementary ‐ The Office ‐ Driving Sales (C0010) exists!\n",
      "Elementary ‐ Daily Life ‐ New Guy in Town (C0011) exists!\n",
      "Elementary ‐ Daily Life ‐ Cleaning the House (C0012) exists!\n",
      "Elementary ‐ The Office ‐ Out Of Control Spending (C0013) exists!\n",
      "Elementary ‐ I’m in Debt (B0014) exists!\n",
      "Elementary ‐ Daily Life ‐ I’m sorry, I love you (C0015) exists!\n",
      "Elementary ‐ Turn left here! (B0016) exists!\n",
      "Elementary ‐ Here Comes the Bride (B0017) exists!\n",
      "Elementary ‐ Upper‐Intermediate ‐ Protest! (D0018) exists!\n",
      "Elementary ‐ The Weekend ‐ Christmas Chronicles I (C0019) exists!\n",
      "Elementary ‐ I Can See Clearly Now (B0020) exists!\n",
      "Elementary ‐The Office ‐ What Do You Do? (C0021) exists!\n",
      "Elementary ‐The Weekend ‐ Christmas Chronicles II (C0022) exists!\n",
      "Elementary ‐ Making an Appointment (B0023) exists!\n",
      "Elementary ‐ Where should we eat? (B0024) exists!\n",
      "Elementary ‐Upper‐Intermediate ‐ Planning For The Worst (D0025) exists!\n",
      "Elementary ‐ New Year Resolution (B0026) exists!\n",
      "Elementary ‐ Asking for Time Off (B0027) exists!\n",
      "Elementary ‐Daily Life ‐ I’m Sorry, I Love You II (C0028) exists!\n",
      "Elementary ‐Advanced ‐ Investing in Emerging Markets (E0029) exists!\n",
      "Elementary ‐Daily Life ‐ New Guy in Town II (C0030) exists!\n",
      "Elementary ‐ Canceling an Appointment (B0031) exists!\n",
      "Elementary‐ Daily Life ‐ Opening a Bank Account (C0032) exists!\n",
      "Elementary ‐ Foul! (B0033) exists!\n",
      "Elementary‐ Upper‐Intermediate ‐ Live from Washington (D0034) exists!\n",
      "Elementary ‐ Daily Life ‐ He’s not a Good Fit (C0035) exists!\n",
      "Elementary ‐ I’m Sorry, I Love You III (B0036) exists!\n",
      "Elementary ‐ Intermediate ‐ Chinese New Year (C0037) exists!\n",
      "Elementary ‐ Daily Life ‐ Buying a Car (C0038) exists!\n",
      "Elementary ‐ My New Boyfriend (B0039) exists!\n",
      "Elementary ‐ Can I ask you a favor? (B0040) exists!\n",
      "Elementary ‐ The Weekend ‐ Movie Trailer (C0041) exists!\n",
      "Elementary ‐ I Need More Time (B0042) exists!\n",
      "Elementary ‐ Daily Life ‐ Applying for a Visa (C0043) exists!\n",
      "Elementary ‐ Small Talk (B0044) exists!\n",
      "Elementary‐Intermediate‐I’m Sorry I love You IV (C0045) exists!\n",
      "Elementary‐Uppe‐Intermediate‐EmergencyRoom (D046) exists!\n",
      "Elementary ‐ Advanced ‐ Just In Time Strategy (E0047) exists!\n",
      "Elementary ‐ Intermediate ‐ Carnival in Rio! (C0048) exists!\n",
      "Elementary ‐ Daily Life ‐ Daddy Please! (C0049) exists!\n",
      "Elementary ‐ Daily Life ‐ New Guy In Town III (C0050) exists!\n",
      "Elementary ‐ The Weekend ‐ What a Bargain! (C0051) exists!\n",
      "Elementary ‐ Daily Life ‐ Pizza Delivary (C0052) exists!\n",
      "Elementary ‐ The Weekend ‐ Head Chef (C0053) exists!\n",
      "Elementary‐Intermediate‐I’m Sorry I Love You V (C0054) exists!\n",
      "Elementary ‐ Intermediate ‐ Hockey (C0055) exists!\n",
      "(C0056) exists!\n",
      "Elementary ‐ The Office ‐ Malfunction (C0057) exists!\n",
      "Elementary ‐ Daily Life ‐ This Is Your Captain Speaking (C0058) exists!\n",
      "Elementary ‐ Advanced ‐ Job Interview I (E0059) exists!\n",
      "Elementary‐ Intermediate ‐ New Guy in Town IV (C0060) exists!\n",
      "Elementary ‐ The Weekend ‐ Swim faster! (C0061) exists!\n",
      "Elementary ‐ The Office ‐ Job Interview II (C0062) exists!\n",
      "Elementary ‐ The Office ‐ Receptionist (C0063) exists!\n",
      "Elementary ‐ Daily Life ‐ I’m Sorry I Love You VI (C0064) exists!\n",
      "Elementary ‐ The Office ‐ Job Interview III (C0065) exists!\n",
      "=== Processing (C0066)\n",
      "checking word: and\n",
      "checking word: omesay\n",
      "checking word: atthey\n",
      "checking word: ayhay\n",
      "checking word: avehay\n",
      "checking word: elphay\n",
      "checking word: allingcay\n",
      "checking word: is\n",
      "checking word: esyay\n",
      "checking word: oresay\n",
      "checking word: ooflay\n",
      "checking word: everishfay\n",
      "did not find\n"
     ]
    },
    {
     "ename": "AttributeError",
     "evalue": "'NoneType' object has no attribute 'group'",
     "output_type": "error",
     "traceback": [
      "\u001b[1;31m---------------------------------------------------------------------------\u001b[0m",
      "\u001b[1;31mAttributeError\u001b[0m                            Traceback (most recent call last)",
      "\u001b[1;32m<ipython-input-4-9c92d17ecc79>\u001b[0m in \u001b[0;36m<module>\u001b[1;34m()\u001b[0m\n\u001b[0;32m     12\u001b[0m     \u001b[1;32mprint\u001b[0m \u001b[1;34m'=== Processing '\u001b[0m \u001b[1;33m+\u001b[0m \u001b[0mtitle\u001b[0m\u001b[1;33m\u001b[0m\u001b[0m\n\u001b[0;32m     13\u001b[0m     \u001b[0mcounts\u001b[0m \u001b[1;33m=\u001b[0m \u001b[0mwordCount\u001b[0m\u001b[1;33m(\u001b[0m\u001b[0mcontent\u001b[0m\u001b[1;33m)\u001b[0m\u001b[1;33m\u001b[0m\u001b[0m\n\u001b[1;32m---> 14\u001b[1;33m     \u001b[0mkeyidfs\u001b[0m \u001b[1;33m=\u001b[0m \u001b[0mcalidf\u001b[0m\u001b[1;33m(\u001b[0m\u001b[0mcounts\u001b[0m\u001b[1;33m)\u001b[0m\u001b[1;33m\u001b[0m\u001b[0m\n\u001b[0m\u001b[0;32m     15\u001b[0m     \u001b[0msorted_tuple\u001b[0m \u001b[1;33m=\u001b[0m \u001b[0msorted\u001b[0m\u001b[1;33m(\u001b[0m\u001b[0mkeyidfs\u001b[0m\u001b[1;33m.\u001b[0m\u001b[0mitems\u001b[0m\u001b[1;33m(\u001b[0m\u001b[1;33m)\u001b[0m\u001b[1;33m,\u001b[0m \u001b[0mkey\u001b[0m\u001b[1;33m=\u001b[0m\u001b[0moperator\u001b[0m\u001b[1;33m.\u001b[0m\u001b[0mitemgetter\u001b[0m\u001b[1;33m(\u001b[0m\u001b[1;36m1\u001b[0m\u001b[1;33m)\u001b[0m\u001b[1;33m)\u001b[0m\u001b[1;33m\u001b[0m\u001b[0m\n\u001b[0;32m     16\u001b[0m     \u001b[0marticles\u001b[0m\u001b[1;33m.\u001b[0m\u001b[0minsert_one\u001b[0m\u001b[1;33m(\u001b[0m\u001b[1;33m{\u001b[0m\u001b[1;34m'title'\u001b[0m\u001b[1;33m:\u001b[0m\u001b[0mtitle\u001b[0m\u001b[1;33m,\u001b[0m \u001b[1;34m'content'\u001b[0m\u001b[1;33m:\u001b[0m\u001b[0mcontent\u001b[0m\u001b[1;33m,\u001b[0m \u001b[1;34m'keyidfs'\u001b[0m\u001b[1;33m:\u001b[0m\u001b[0msorted_tuple\u001b[0m\u001b[1;33m[\u001b[0m\u001b[1;36m0\u001b[0m\u001b[1;33m:\u001b[0m\u001b[1;36m10\u001b[0m\u001b[1;33m]\u001b[0m\u001b[1;33m}\u001b[0m\u001b[1;33m)\u001b[0m\u001b[1;33m\u001b[0m\u001b[0m\n",
      "\u001b[1;32m<ipython-input-2-fd077cbecd9e>\u001b[0m in \u001b[0;36mcalidf\u001b[1;34m(counts)\u001b[0m\n\u001b[0;32m     17\u001b[0m         \u001b[1;32mif\u001b[0m \u001b[0mlen\u001b[0m\u001b[1;33m(\u001b[0m\u001b[0mword\u001b[0m\u001b[1;33m)\u001b[0m \u001b[1;33m==\u001b[0m \u001b[1;36m0\u001b[0m\u001b[1;33m:\u001b[0m\u001b[1;33m\u001b[0m\u001b[0m\n\u001b[0;32m     18\u001b[0m             \u001b[1;32mcontinue\u001b[0m\u001b[1;33m\u001b[0m\u001b[0m\n\u001b[1;32m---> 19\u001b[1;33m         \u001b[0mwordArtCount\u001b[0m\u001b[1;33m=\u001b[0m\u001b[0mgetCachedKeywordCount\u001b[0m\u001b[1;33m(\u001b[0m\u001b[0mword\u001b[0m\u001b[1;33m)\u001b[0m\u001b[1;33m\u001b[0m\u001b[0m\n\u001b[0m\u001b[0;32m     20\u001b[0m         \u001b[0mtfidf\u001b[0m \u001b[1;33m=\u001b[0m \u001b[0mmath\u001b[0m\u001b[1;33m.\u001b[0m\u001b[0mlog\u001b[0m\u001b[1;33m(\u001b[0m\u001b[0mfloat\u001b[0m\u001b[1;33m(\u001b[0m\u001b[0mtotalArticleCount\u001b[0m\u001b[1;33m)\u001b[0m\u001b[1;33m/\u001b[0m\u001b[1;33m(\u001b[0m\u001b[0mwordArtCount\u001b[0m\u001b[1;33m+\u001b[0m\u001b[1;36m1\u001b[0m\u001b[1;33m)\u001b[0m\u001b[1;33m)\u001b[0m \u001b[1;33m*\u001b[0m\u001b[0mcount\u001b[0m\u001b[1;33m\u001b[0m\u001b[0m\n\u001b[0;32m     21\u001b[0m         \u001b[0mrst\u001b[0m\u001b[1;33m[\u001b[0m\u001b[0mword\u001b[0m\u001b[1;33m]\u001b[0m \u001b[1;33m=\u001b[0m \u001b[0mtfidf\u001b[0m\u001b[1;33m\u001b[0m\u001b[0m\n",
      "\u001b[1;32m<ipython-input-2-fd077cbecd9e>\u001b[0m in \u001b[0;36mgetCachedKeywordCount\u001b[1;34m(word)\u001b[0m\n\u001b[0;32m      4\u001b[0m     \u001b[1;32mif\u001b[0m \u001b[0mcachedWord\u001b[0m\u001b[1;33m:\u001b[0m\u001b[1;33m\u001b[0m\u001b[0m\n\u001b[0;32m      5\u001b[0m         \u001b[1;32mreturn\u001b[0m \u001b[0mcachedWord\u001b[0m\u001b[1;33m[\u001b[0m\u001b[1;34m\"count\"\u001b[0m\u001b[1;33m]\u001b[0m\u001b[1;33m\u001b[0m\u001b[0m\n\u001b[1;32m----> 6\u001b[1;33m     \u001b[0mcount\u001b[0m \u001b[1;33m=\u001b[0m \u001b[0mgetKeywordCount\u001b[0m\u001b[1;33m(\u001b[0m\u001b[0mword\u001b[0m\u001b[1;33m)\u001b[0m\u001b[1;33m\u001b[0m\u001b[0m\n\u001b[0m\u001b[0;32m      7\u001b[0m     \u001b[0mwordCountCache\u001b[0m\u001b[1;33m.\u001b[0m\u001b[0minsert\u001b[0m\u001b[1;33m(\u001b[0m\u001b[1;33m{\u001b[0m\u001b[1;34m\"word\"\u001b[0m\u001b[1;33m:\u001b[0m\u001b[0mword\u001b[0m\u001b[1;33m,\u001b[0m \u001b[1;34m\"count\"\u001b[0m\u001b[1;33m:\u001b[0m\u001b[0mcount\u001b[0m\u001b[1;33m}\u001b[0m\u001b[1;33m)\u001b[0m\u001b[1;33m\u001b[0m\u001b[0m\n\u001b[0;32m      8\u001b[0m     \u001b[1;32mreturn\u001b[0m \u001b[0mcount\u001b[0m\u001b[1;33m\u001b[0m\u001b[0m\n",
      "\u001b[1;32m/root/jupyter/google_utils.pyc\u001b[0m in \u001b[0;36mgetKeywordCount\u001b[1;34m(keyword)\u001b[0m\n\u001b[0;32m     30\u001b[0m     \u001b[0mregex\u001b[0m \u001b[1;33m=\u001b[0m \u001b[1;34m'([0-9,]+)'\u001b[0m\u001b[1;33m\u001b[0m\u001b[0m\n\u001b[0;32m     31\u001b[0m \u001b[1;33m\u001b[0m\u001b[0m\n\u001b[1;32m---> 32\u001b[1;33m     \u001b[0mcountStr\u001b[0m \u001b[1;33m=\u001b[0m \u001b[0msearch\u001b[0m\u001b[1;33m(\u001b[0m\u001b[0mresultStr\u001b[0m\u001b[1;33m,\u001b[0m \u001b[0mprefix\u001b[0m\u001b[1;33m+\u001b[0m\u001b[0mregex\u001b[0m\u001b[1;33m+\u001b[0m\u001b[0msuffix\u001b[0m\u001b[1;33m)\u001b[0m\u001b[1;33m.\u001b[0m\u001b[0mgroup\u001b[0m\u001b[1;33m(\u001b[0m\u001b[1;36m1\u001b[0m\u001b[1;33m)\u001b[0m\u001b[1;33m.\u001b[0m\u001b[0mreplace\u001b[0m\u001b[1;33m(\u001b[0m\u001b[1;34m\",\"\u001b[0m\u001b[1;33m,\u001b[0m \u001b[1;34m\"\"\u001b[0m\u001b[1;33m)\u001b[0m\u001b[1;33m\u001b[0m\u001b[0m\n\u001b[0m\u001b[0;32m     33\u001b[0m     \u001b[1;32mreturn\u001b[0m \u001b[0mint\u001b[0m\u001b[1;33m(\u001b[0m\u001b[0mcountStr\u001b[0m\u001b[1;33m)\u001b[0m\u001b[1;33m\u001b[0m\u001b[0m\n\u001b[0;32m     34\u001b[0m \u001b[1;33m\u001b[0m\u001b[0m\n",
      "\u001b[1;31mAttributeError\u001b[0m: 'NoneType' object has no attribute 'group'"
     ]
    }
   ],
   "source": [
    "import re, operator\n",
    "from wordCount import wordCount\n",
    "file = open('articles.in', 'r')\n",
    "p = re.compile(r'(^.*\\([A-Z][0-9]+\\))', re.M)\n",
    "articlesIn = re.split(p, file.read())\n",
    "for i in range(len(articlesIn)):\n",
    "    title = articlesIn[2*i+1]\n",
    "    content = articlesIn[2*i+2]\n",
    "    if articles.find_one({'title':title}):\n",
    "        print title + ' exists!'\n",
    "        continue\n",
    "    print '=== Processing ' + title\n",
    "    counts = wordCount(content)\n",
    "    keyidfs = calidf(counts)\n",
    "    sorted_tuple = sorted(keyidfs.items(), key=operator.itemgetter(1))\n",
    "    articles.insert_one({'title':title, 'content':content, 'keyidfs':sorted_tuple[0:10]})\n",
    "    print '=== End processing ' + title"
   ]
  },
  {
   "cell_type": "code",
   "execution_count": null,
   "metadata": {
    "collapsed": true
   },
   "outputs": [],
   "source": []
  }
 ],
 "metadata": {
  "kernelspec": {
   "display_name": "Python 2",
   "language": "python",
   "name": "python2"
  },
  "language_info": {
   "codemirror_mode": {
    "name": "ipython",
    "version": 2
   },
   "file_extension": ".py",
   "mimetype": "text/x-python",
   "name": "python",
   "nbconvert_exporter": "python",
   "pygments_lexer": "ipython2",
   "version": "2.7.5"
  }
 },
 "nbformat": 4,
 "nbformat_minor": 0
}
