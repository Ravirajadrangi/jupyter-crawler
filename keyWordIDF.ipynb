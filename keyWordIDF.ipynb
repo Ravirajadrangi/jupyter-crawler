{
 "cells": [
  {
   "cell_type": "code",
   "execution_count": null,
   "metadata": {
    "collapsed": false
   },
   "outputs": [],
   "source": [
    "# -*- coding: utf-8 -*-\n",
    "from pymongo import MongoClient\n",
    "con = MongoClient('127.0.0.1', 27017)\n",
    "db = con.article_connections\n",
    "articlesDb = db.englishpod\n",
    "wordCountCache = db.wcCache\n",
    "wordCountCache.ensure_index(\"word\")"
   ]
  },
  {
   "cell_type": "code",
   "execution_count": null,
   "metadata": {
    "collapsed": false
   },
   "outputs": [],
   "source": [
    "import re\n",
    "file = open('articles.in', 'r')\n",
    "p = re.compile(r'(^.*\\([A-Z][0-9]+\\))', re.M)\n",
    "articles = p.split(file.read())\n",
    "file.close()"
   ]
  },
  {
   "cell_type": "code",
   "execution_count": 3,
   "metadata": {
    "collapsed": false
   },
   "outputs": [
    {
     "name": "stdout",
     "output_type": "stream",
     "text": [
      "<pymongo.cursor.Cursor object at 0x24f65d0>\n",
      "{u'content': u'\\nA: Help! Are you a doctor? My poor little Frankie has stopped breathing! Oh my gosh, Help me! I tried to perform CPR, but I just dont know if I could get any air into his lungs! Oh, Frankie!\\nB: Ellen, get him hooked up to a monitor! Someone page Dr. Howser. Get the patient to hold still, I cant get a pulse! Okay, hes on the monitor. His BP is falling! He\\u2019s flatlining!\\nA: NOOOOOO! Frankie! Nurse! Do something!\\nB: Someone get her out of here! Get me the defibrillator. Okay, clear! Again! Clear! Come on! dammit! I\\u2019m not letting you go! Clear! I\\u2019ve got a pulse!\\nC: Okay, whats happening?\\nB: The patient is in acute respiratory failure, I think were going to have to intubate!\\nC: Alright! Tubes in! Bag him! Someone give him 10 cc\\u2019s of adrenaline! Lets go, people move, move!\\nA: Doctor, oh, thank god! How is he?\\nB: We managed to stabilize Frankie, but hes not out of the woods yet; hes still in critical condition. Were moving him to intensive care, but&\\nA: Doctor, just do whatever it takes. I just want my little Frankie to be okay. I couldnt imagine life without my little hamster!\\n', u'keyidfs': [[u'frankie', 0.14075794199421868], [u'hes', 0.11253386610839906], [u'okay', 0.07893933056200522], [u'noooooo', 0.05450097934671988], [u'flatlining', 0.05439750430990726], [u'intubate', 0.05378471392705471], [u'howser', 0.0534254758841674], [u'him', 0.04674018928222175], [u'doctor', 0.045959675076102345], [u'pulse', 0.04521490448300385]], u'_id': ObjectId('570994d5d46bf97f59c4acb1'), u'title': u'Elementary\\u2010Uppe\\u2010Intermediate\\u2010EmergencyRoom (D046)'}\n",
      "{u'content': u'\\nA: I called this meeting today in order to discuss our manufacturing plan. As I\\u2019m sure you\\u2019re all aware, with the credit crunch, and the global financial crisis, we\\u2019re obligated to look for more cost efficient ways of producing our goods. We don\\u2019t want to have to be looking at redundancies. So, we\\u2019ve outlined a brief plan to implement the just-in-time philosophy.\\nB: We have two basic points that we want to focus on. First of all, we want to reduce our lead time.\\nC: Why would want to do that? I think this is not an area that really needs to be worked on.\\nB: Well, we want to reduce production and delivery lead timesfor better overall efficiency.\\nA: Right, production lead times can be reduced by moving work stations closer together, reducing queue length, like for example, reducing the number of jobs waiting to be processed at a given machine, and improving the coordination and cooperation between successive processes. Delivery lead times can be reduced through close cooperation with suppliers, possibly by inducing suppliers to locate closer to the factory or working with a faster shipping company.\\nC: I see& That makes sense.\\nB: The second point is that we want to require supplier quality assurance and implement a zero defects quality program. We currently have far too many errors that lead to defective items and therefore, they must be eliminated. A quality control at the source program must be implemented to give workers the personal responsibility for the quality of the work they do, and the authority to stop production when something goes wrong.\\nC: I\\u2019m with you on this one. Its essential that we reduce these errors; we\\u2019ve got to force our suppliers to reduce their mistakes.\\nA: Exactly. Well, let\\u2019s look at how we\\u2019re going to put this plan into action. First...(fade out)\\n', u'keyidfs': [[u'lead', 0.04720023411536285], [u'reduce', 0.04622742651000484], [u'firstfade', 0.045456358518594434], [u'suppliers', 0.0363359728506113], [u'want', 0.03383208749994614], [u'cooperation', 0.030862845019519445], [u'reducing', 0.030184645909696894], [u'errors', 0.028210127200969583], [u'implement', 0.027976802466434133], [u'redundancies', 0.027965886228717166]], u'_id': ObjectId('570994f6d46bf97f59c4acf1'), u'title': u'Elementary \\u2010 Advanced \\u2010 Just In Time Strategy (E0047)'}\n",
      "{u'content': u'\\nA: I can\\u2019t believe we\\u2019re here! Carnival in Rio! Seriously, this is like a once in a lifetime opportunity! Can you believe it? We\\u2019re here at the biggest party in the world!\\nB: I know! We\\u2019re so lucky that we found tickets for the Sambadrome! Good thing we found that ticket scalper.\\nA: Look! It\\u2019s starting! Wow, this is amazing! Look at how many dancers there are. Oh my gosh! The costumes are so colorful! This is so cool!\\nB: It says here that the school that is dancing now is one of the oldest and most prestigious samba schools in Rio.\\nA: No kidding! Look at them, they\\u2019re amazing! Look at that girl on the top of that float! She must be the carnival queen! Move over there so I can get a picture of you!\\nB: Ok. Hurry up take the picture!\\nC: join us! come and dance!\\nB: Oh really.... no I can\\u2019t. No really, I don\\u2019t know how\\nto dance! Honey I\\u2019ll see you later! A: Patrick! Don\\u2019t just leave me here!\\n', u'keyidfs': [[u'sambadrome', 0.06294874531898527], [u'carnival', 0.05803335536879383], [u'scalper', 0.05602125401254823], [u'cant', 0.04523175241679592], [u'look', 0.04183696999618747], [u'rio', 0.037709649250157073], [u'dance', 0.035013612675224556], [u'gosh', 0.034139927246248564], [u'believe', 0.03337441257603425], [u'amazing', 0.03337441257603425]], u'_id': ObjectId('57099505d46bf97f59c4ad0d'), u'title': u'Elementary \\u2010 Intermediate \\u2010 Carnival in Rio! (C0048)'}\n",
      "{u'content': u'\\nA: Hey daddy! You look great today; I like your tie! By the way, I was wondering can I&\\nB: NO!\\nA: I havent even told you what it is yet!\\nB: Okay, okay, what do you want?\\nA: Do you think I could borrow the car? I\\u2019m going to a concert tonight.\\nB: Um.. I don\\u2019t think so. I need the car tonight to pick up your mother.\\nA: Ugg! I told you about it last week! Smelly Toes is playing, and Eric asked if I would go with him!\\nB: Whos this Eric guy?\\nA: Duh! Hes like the hottest and most popular guy at school! Come on, dad! Please!\\nB: No can do... sorry.\\nA: Fine then! Would you mind giving me 100 bucks?\\nB: No way!\\nA: That\\u2019s so unfair!\\n', u'keyidfs': [[u'okay', 0.060088147144212935], [u'tonight', 0.055580809575754314], [u'eric', 0.0550756318844215], [u'smelly', 0.05245009102148052], [u'told', 0.04884366300548564], [u'ugg', 0.0482548407168786], [u'duh', 0.047531496584172446], [u'guy', 0.045988028588354636], [u'unfair', 0.04429604555872821], [u'borrow', 0.04387259412936896]], u'_id': ObjectId('5709950cd46bf97f59c4ad1c'), u'title': u'Elementary \\u2010 Daily Life \\u2010 Daddy Please! (C0049)'}\n",
      "{u'content': u'\\nA: Please make yourselves at home. Let me take your coats. Dinner is almost ready; I hope you brought your appetite\\nB: Your house is lovely, Armand! Very interesting decor...very...Gothic.\\nC: I think it\\u2019s amazing! You have such good taste, Armand. I\\u2019m thinking of re-decorating my house; maybe you could give me a few pointers?\\nA: It would be my pleasure. Please have a seat. Can I offer you a glass of wine?\\nC: We would love some!\\nA: Here you are. A very special merlot brought directly from my home country. It has a unique ingredient which gives it a pleasant aroma and superior flavor.\\nC: Mmm... it\\u2019s delicious!\\nB: It\\u2019s a bit bitter for my taste... almost tastes like... like... C: Ellen! Ellen! Are you okay?\\nA: Did she pass out?\\n13\\nC: Yeah...\\nA: I hope that you didn\\u2019t poison her drink too much! You\\u2019ll ruin our meal!\\n', u'keyidfs': [[u'decorverygothic', 0.11505716918103585], [u'armand', 0.08180874187731182], [u'redecorating', 0.07361282567154669], [u'ellen', 0.05881165179498187], [u'taste', 0.04990029424955873], [u'brought', 0.04694475052807868], [u'merlot', 0.04483494924445701], [u'pointers', 0.042509502779833876], [u'yourselves', 0.04134777579612693], [u'appetite', 0.03824022889307963]], u'_id': ObjectId('57099519d46bf97f59c4ad35'), u'title': u'Elementary \\u2010 Daily Life \\u2010 New Guy In Town III (C0050)'}\n",
      "{u'content': u'\\nA: Hello. May I help you?\\nB: Yeah, this dress is really nice! How much is it?\\nA: That one is one hundred and fifty dollars.\\nB: One hundred and fifty dollars? What about this other one over here?\\nA: That\\u2019s one hundred and forty dollars.\\nB: Hmm...that\\u2019s a bit out of my price range. Can you give me a better deal?\\nA: This is an exclusive design by DaMarco! It\\u2019s a bargain at that price.\\nB: Well, I don\\u2019t know. I think I\\u2019ll shop around.\\nA: Okay, okay, how about one hundred dollars?\\nB: That\\u2019s still more than I wanted to spend. What if I take both dresses?\\nA: Okay, I can give you a special discount, just because you seem like a nice person. One hundred and ninety dollars for both.\\nB: I don\\u2019t know... It\\u2019s still a bit pricey.... Thanks anyway. A: Okay, my final price! One hundred dollars for both! That\\u2019s two for the price of one. That\\u2019s my last offer!\\nB: Great! You\\u2019ve got a deal!\\n', u'keyidfs': [[u'hundred', 0.14801681906740075], [u'dollars', 0.13660372974655285], [u'okay', 0.09417323645993605], [u'hmmthats', 0.0692462941391648], [u'damarco', 0.0652737035401442], [u'fifty', 0.05471096704073406], [u'one', 0.041894977153259676], [u'price', 0.041536021323339244], [u'pricey', 0.03755184242426404], [u'both', 0.03732768144398408]], u'_id': ObjectId('57099521d46bf97f59c4ad44'), u'title': u'Elementary \\u2010 The Weekend \\u2010 What a Bargain! (C0051)'}\n",
      "{u'content': u'\\nA: Good evening, Pizza House. This is Marty speaking. May I take your order?\\nB: Um yes& Id like a medium pizza with pepperoni, olives, and extra cheese.\\nA: We have a two-for-one special on large pizzas. Would you like a large pizza instead?\\nB: Sure, that sounds good.\\nA: Great! Would you like your second pizza to be the same as the first?\\nB: No, make the second one with ham, pineapple and green peppers. Oh, and make it thin crust.\\nA: Okay, thin crust. Your total is $21.50 and your order will arrive in thirty minutes or it\\u2019s free!\\nB: Perfect. Thank you. Bye..\\nA: Sir, wait!! I need your address!\\n', u'keyidfs': [[u'pizza', 0.132582516294322], [u'crust', 0.10675096435119155], [u'thin', 0.0689751743940204], [u'pepperoni', 0.06539913470817864], [u'twoforone', 0.0637479316580075], [u'marty', 0.05106601938785886], [u'2150', 0.04987029878077157], [u'olives', 0.049486309806939924], [u'pineapple', 0.0493095918053112], [u'peppers', 0.047053908200997224]], u'_id': ObjectId('5709952bd46bf97f59c4ad57'), u'title': u'Elementary \\u2010 Daily Life \\u2010 Pizza Delivary (C0052)'}\n",
      "{u'content': u'\\nA: ...Right away sir, your order will be ready shortly. Jean Pierre, we have another special for table seven!\\nB: I\\u2019m working as fast as I can! We\\u2019re really in the weeds! Where is my sous chef? Luc! I need you to peel more potatoes. Marie, chop some onions and carrots for the stew.\\nA: Jean Pierre another special! We\\u2019re really packed tonight! We\\u2019re running low on wine. Is there any left in the cellar? C: Sorry I\\u2019m late, everyone. Wow, we are doing really well tonight!\\nB: Harry, stop talking and get over here I need this sauce stirred and the fish needs to be butchered and buttered.\\nC: Ok, I\\u2019m on it!\\nA: Jean Pierre, table seven has requested to see the chef! I think they are food critics from Cuisine Magazine\\n', u'keyidfs': [[u'pierre', 0.07658459161904346], [u'jean', 0.06575257403039583], [u'butchered', 0.0637314004981588], [u'buttered', 0.05839431102630694], [u'tonight', 0.055580809575754314], [u'chef', 0.05458699458092305], [u'really', 0.0520611888885528], [u'seven', 0.05011121331005409], [u'stirred', 0.04933591527130086], [u'stew', 0.04690373267260034]], u'_id': ObjectId('57099539d46bf97f59c4ad72'), u'title': u'Elementary \\u2010 The Weekend \\u2010 Head Chef (C0053)'}\n",
      "{u'content': u'\\nA: Honey, of course I forgive you! I love you so much! I\\u2019ve really missed you. I was wrong to get upset over nothing.\\nB: I\\u2019m sorry I haven\\u2019t called or anything, but right after you decided you wanted a break, I was called up north to put out some major forest fires! I was in the middle of nowhere, working day and night, trying to prevent the blaze from spreading! It was pretty intense.\\nA: Oh, honey, I\\u2019m glad you\\u2019re okay! But I have some exciting news... I think I\\u2019m pregnant!\\nB: Really? Wow, that\\u2019s amazing! This is great news! I\\u2019ve always wanted to be a father! We\\u2019ll go to the doctor first thing in the morning!\\nC: We have your test results back and, indeed, you are pregnant. Let\\u2019s see here... everything seems to be in order. Your approximate due date is October twenty-seventh two thousand and nine, so that means that the baby was conceived on February third, two thousand and nine.\\nB: Are you sure? Are these things accurate?\\nC: Well, yes sir, they are.\\nA: What\\u2019s wrong? Why are you asking these questions?\\nB: This baby isn\\u2019t mine! I was away the first week of\\n14\\nFebruary at a training seminar!\\nA: I... I... no, it can\\u2019t be...\\n', u'keyidfs': [[u'twentyseventh', 0.04750032672626471], [u'thousand', 0.039410346901692296], [u'honey', 0.039336509000850964], [u'pregnant', 0.03858304861729487], [u'nine', 0.03568589171329472], [u'conceived', 0.029115650933359286], [u'wanted', 0.028229806284374586], [u'ive', 0.027934044152594633], [u'was', 0.027588149540081472], [u'isnt', 0.02710927024814565]], u'_id': ObjectId('57099544d46bf97f59c4ad89'), u'title': u'Elementary\\u2010Intermediate\\u2010I\\u2019m Sorry I Love You V (C0054)'}\n",
      "{u'content': u'\\nA: Hello everyone! I\\u2019m Rick Fields, and here with me is Bob Copeland.\\nB: Howdy folks, and welcome to today\\u2019s game! You know, Rick, today is a key game between Russia and Canada. As you know, the winner will move on to the finals.\\nA: That\\u2019s right, and it looks like we\\u2019re just about ready to start the match. The ref is calling the players for the face-off... and here we go! The Russians win possession and immediately set up their attack! Federov gets checked hard into the boards!\\nB: Maurice Richard has the puck now, and passes it to the center. He shoots! Wow what a save by the goalie!\\nA: Alright, the puck is back in play now. Pavel Bure is on a breakaway! He is flying down the ice! The defenders can\\u2019t keep up! Slap shot! He scores\\nB: What an amazing goal!\\nElementary\\u2010Daily Life \\u2010 Planning a Bank Robbery\\n', u'keyidfs': [[u'elementarydaily', 0.09016153744116354], [u'puck', 0.08258124786839315], [u'federov', 0.05721295241081002], [u'rick', 0.05694940760135282], [u'faceoff', 0.05064451189152959], [u'howdy', 0.04834335367281642], [u'bure', 0.04740243419391902], [u'breakaway', 0.04687647112919325], [u'goalie', 0.0458497270055034], [u'copeland', 0.04216337811388082]], u'_id': ObjectId('5709955ad46bf97f59c4adb0'), u'title': u'Elementary \\u2010 Intermediate \\u2010 Hockey (C0055)'}\n",
      "{u'content': u'\\nA: All right, so this is what we are going to do. I\\u2019ve carefully mapped this out, so don\\u2019t screw it up. Mr. Rabbit, you and Mr. Fox will go into the bank wearing these uniforms. We managed to get replicas of the one the guards wear when they pick up the money.\\nB: Got it.\\nC: No problem, boss.\\nA: When you get inside, tell them that you are filling in for Carl and Tom, and say that they are on another route today. Don\\u2019t lose your cool. Just act natural.\\nB: What if they want to call and confirm?\\nA: You let him.\\nC: What!?\\nA: Dont worry, we have the phones tapped, so the call will be patched through to me, and Ill pretend to be the transport company.\\nB: Ha ha, you are so clever boss!\\nA: Okay, shut up. Only take as much money as you can fit in these bags. Dont get greedy! Are you ready? Let\\u2019s go.\\n', u'keyidfs': [[u'boss', 0.048828965307517], [u'patched', 0.042284309248740964], [u'replicas', 0.04176201997287803], [u'tapped', 0.040013551729179524], [u'dont', 0.039177490331701766], [u'greedy', 0.03879460992128946], [u'mapped', 0.03828506677185465], [u'pretend', 0.0332074713962121], [u'guards', 0.03181336748326125], [u'uniforms', 0.031509511547937775]], u'_id': ObjectId('57099568d46bf97f59c4adca'), u'title': u'(C0056)'}\n",
      "{u'content': u'\\n15\\nA: Hey Carl, can you make a copy of this contract for me please? When you have it ready, send it out ASAP to our subbranch.\\nB: Sure! Um... I think I broke this thing. Maxine, can you help me out here? I\\u2019m not really a tech guy.\\nC: Yeah, sure. I think it\\u2019s just out of toner. You can go use the other one upstairs. On your way up, can you fax this while I try and fix this thing?\\nB: Sure! Dammit! Everything in this office seems to be breaking down! Never mind. I\\u2019ll send this stupid fax later. Oh great! Is someone playing a practical joke on me? This is ridiculous!\\nD: The elevator has some sort of malfunction. Just take the stairs dude. What floor are you going to?\\nB: I have to go up fifteen floors! Never mind. Made it! There is the copier!\\n', u'keyidfs': [[u'subbranch', 0.05511407010388699], [u'dammit', 0.047191107204790035], [u'malfunction', 0.04411274912204979], [u'sure', 0.043999970077236036], [u'maxine', 0.04395679659611219], [u'copier', 0.04138340171452932], [u'fax', 0.03730447339100286], [u'upstairs', 0.036914770307782944], [u'toner', 0.03661988194416988], [u'mind', 0.03598652892999596]], u'_id': ObjectId('57099572d46bf97f59c4addf'), u'title': u'Elementary \\u2010 The Office \\u2010 Malfunction (C0057)'}\n",
      "{u'content': u'\\nA: And the next thing you know, we\\u2019re running towards the... Oh...did you feel that?\\nB: Yeah, don\\u2019t worry about it; we\\u2019re just going through a bit of turbulence.\\nC: Ladies and gentlemen, this is your captain speaking. It looks like we\\u2019ve hit a patch of rough air, so we\\u2019re going to have a bit of a bumpy ride for the next several minutes, and...\\nA: This why I hate flying... Oh!\\nC: At this time, I\\u2019d like to remind all of our passengers to\\nfasten their seat beltsand remain seated until the fasten seat\\nbelt sign is turned off. Please ensure that all cabin\\nbaggageis carefully stowed under the seat in front of you.\\nI\\u2019ll be back back to update you in a minute.\\nA: Did you hear that? Brent!\\nB: Don\\u2019t worry about it. This is totally normal. It happens\\nall the\\nC: Ah, ladies and gentlemen, this is your captain again.\\nWe\\u2019ve got quite a large patch of rough air ahead of us, so\\nfor your safety, we will be suspending in-flight service. I\\nwould ask all in-flight crew to return to their seats at this\\ntime. I would also like to ask that all our passengers refrain\\nfrom using the lavatory until the seat belt sign has been\\nswitched off We can expect...\\n', u'keyidfs': [[u'inflight', 0.07794050788609903], [u'fasten', 0.06453344646059751], [u'seat', 0.060574899019913295], [u'ohdid', 0.05110271207018122], [u'baggageis', 0.05048885408454565], [u'gentlemen', 0.04762728012775848], [u'passengers', 0.046428633792262496], [u'stowed', 0.041922102006314584], [u'patch', 0.03765238736502195], [u'worry', 0.03727007767815454]], u'_id': ObjectId('57099581d46bf97f59c4adfe'), u'title': u'Elementary \\u2010 Daily Life \\u2010 This Is Your Captain Speaking (C0058)'}\n",
      "{u'content': u'\\nA: Okay, so let\\u2019s go over everything one more time. I really want you to get this job!\\nB: I know! It\\u2019s an amazing growth opportunity! They\\u2019re true industry leaders, and it would be so interesting to be part of an organization that is the undisputed leader in business process platform development.\\nA: So, let\\u2019s see, you did your research on the company, right?\\nB: Well, I visited their website and read up on what they do. They\\u2019re an IT service company that offers comprehensive business solutions for large corporations. They provide services such as CRM development, and they also offer customdesigned applications.\\nA: So what would your role in the company?\\nB: Well, the position is for an account manager. That basically means that I would be the link between our and our development team.\\nA: Sounds good, and so, why do you want to work with them?\\nB: Well, as I said they\\u2019re the industry leaders, they have a really great growth strategy, amazing development opportunities for employees, and it seems like they have strong corporate governance. They\\u2019re all about helping companies grow and unleashing potential. I guess their core values and mission really resonated with me. Oh, and they offer six weeks\\u2019 vacation, stock options and bonuses... I\\u2019m totally going to cash in on that.\\nA: You idiot! Don\\u2019t say that! Do you want this job, or not?\\n', u'keyidfs': [[u'theyre', 0.06322445731452399], [u'development', 0.041728798085995895], [u'resonated', 0.03664078690297508], [u'unleashing', 0.03487741261670145], [u'customdesigned', 0.03146958546112534], [u'undisputed', 0.030894603184268257], [u'leaders', 0.03078223428661794], [u'growth', 0.030429756494394916], [u'really', 0.030199997017602058], [u'they', 0.02775575045747108]], u'_id': ObjectId('57099595d46bf97f59c4ae24'), u'title': u'Elementary \\u2010 Advanced \\u2010 Job Interview I (E0059)'}\n",
      "{u'content': u'\\nA: All right, drag her over here, and help me tie her up.\\nB: I can\\u2019t believe she fell for it! She is a lot more gullible than I thought!\\nA: Well, you gotta admit, my acting was brilliant!\\nB: Whatever. I was the one that convinced her to come. Look, she\\u2019s waking up!\\nC: What\\u2019s going on? Ellen? What are you doing?\\nA: The cat\\u2019s out of the bag, you witch! You can stop pretending, now!\\nB: Yeah Lois , we know who you are! Now, we want some answers! Why are you here?\\nC: Fools! You don\\u2019t know who you\\u2019re dealing with! You can\\u2019t stop me!\\nB: Run!\\n', u'keyidfs': [[u'gullible', 0.0742497036936428], [u'cant', 0.07237080386687346], [u'pretending', 0.059161027994573415], [u'shes', 0.054756599950219004], [u'waking', 0.05332980102226509], [u'fools', 0.0494262984136265], [u'convinced', 0.0494262984136265], [u'lois', 0.047768829729273744], [u'her', 0.04699965729992145], [u'witch', 0.046486297026881965]], u'_id': ObjectId('5709959cd46bf97f59c4ae32'), u'title': u'Elementary\\u2010 Intermediate \\u2010 New Guy in Town IV (C0060)'}\n",
      "{u'content': u'\\nA: This is such a beautiful day! Great for sailing!\\nB: It sure is! The water looks so nice! Anchor the boat for a little while. I\\u2019m going to take a dip.\\nA: Why are you doggy-paddling? I taught you how to swim! Do your breast stroke!\\nB: I get too tired! I\\u2019ll just backstroke, it\\u2019s easier!\\nA: Try kicking your legs more. That\\u2019s good. Don\\u2019t go out too far!\\nB: It\\u2019s Jump in!\\nA: Kathy! Get back here! I see a shark!\\nB: Ahhhh!!!! Help me! Help! Bring the boat closer! The shark is coming straight towards me!\\nA: It\\u2019s right under you! Kathy!!!!!\\n', u'keyidfs': [[u'doggypaddling', 0.1238962078711123], [u'shark', 0.09386451508716835], [u'kathy', 0.09151722671020864], [u'backstroke', 0.0840603909925824], [u'ahhhh', 0.07062931149276702], [u'boat', 0.06891858878032225], [u'kicking', 0.054600913757605715], [u'sailing', 0.048513791209632194], [u'stroke', 0.0445099180106604], [u'anchor', 0.044349850217843635]], u'_id': ObjectId('570995a6d46bf97f59c4ae44'), u'title': u'Elementary \\u2010 The Weekend \\u2010 Swim faster! (C0061)'}\n",
      "{u'content': u'\\nA: Thanks for coming in today, did you have any trouble finding us? Please take a seat.\\nB: Thank you.\\nA: So, let\\u2019s get started; tell me a bit about your educational background.\\nB: Sure! Well, I graduated with honors from Chesterton University with a major in Business Administration, with a specialization in Information Management, and I minored in psychology. I chose this course of study for two reasons: I wanted to gain some practical, marketable skills, which the information management track provided, and I also feel that interpersonal skills are essential for professional success, hence the minor in psychology.\\nA: Interesting. And, your postgraduate studies?\\nB: Well, I am really passionate about consumer behavior, so I pursued a master\\u2019s in that area. I also strive to keep my professional skills current, so I continuously attend seminars and conferences related management and customer service.\\nA: Very good. Now, tell me a little bit about your work experience. I see here that you previously worked at\\n16\\nOracle.\\nB: Yeah, I worked as their customer support manager, which brought me a breadth of experience in both client care, and process management. I supervised and coordinated the customer support team as well as implemented new strategies to achieve better customer satisfaction.\\nA: Interesting...\\nB: Yes, in this position I was able to make some pretty significant contributions to the overall success of the company. With the different initiatives that we implemented, we lowered our churn rate to about five percent, which had a direct impact on revenue.\\n', u'keyidfs': [[u'minored', 0.04247262110174191], [u'implemented', 0.038779736030874305], [u'skills', 0.03709008093338881], [u'customer', 0.03635035624348047], [u'management', 0.035432768688048476], [u'psychology', 0.03409735707001477], [u'marketable', 0.03068563795107894], [u'chesterton', 0.02994485163402282], [u'churn', 0.029576934975680435], [u'worked', 0.02702187809125425]], u'_id': ObjectId('570995c3d46bf97f59c4ae7c'), u'title': u'Elementary \\u2010 The Office \\u2010 Job Interview II (C0062)'}\n",
      "{u'content': u'\\nA: Good afternoon. May I help you?\\nB: Yes, I\\u2019m here to see Joanna Stevens. I have an appointment at four.\\nA: Certainly, may I take your name? I\\u2019ll let her know you\\u2019ve arrived.\\nB: Sure, it\\u2019s Josh O\\u2019Neil.\\nA: Ms. Stevens will be with you momentarily. Can I offer you something to drink?\\nB: Yes, a coffee would be nice, thank you.\\nA: Here you are. Ms. Stevens is ready for you now. I\\u2019ll show you to her office, right this way.\\nA: Just watch your step here...\\n', u'keyidfs': [[u'stevens', 0.1627788370122654], [u'oneil', 0.10435080723216061], [u'ill', 0.0892574234617973], [u'momentarily', 0.07922344402132231], [u'ms', 0.05924249608022207], [u'joanna', 0.05716311445755558], [u'yes', 0.051628176179234986], [u'josh', 0.047955913308130406], [u'appointment', 0.04727847252059294], [u'arrived', 0.0467816133254882]], u'_id': ObjectId('570995c7d46bf97f59c4ae84'), u'title': u'Elementary \\u2010 The Office \\u2010 Receptionist (C0063)'}\n",
      "{u'content': u'\\nA: This is ridiculous! I can\\u2019t believe you\\u2019ve been sleeping with someone else! How could you do this! You know what? I\\u2019m out of here!\\nB: Wait! Doctor how is this possible? I haven\\u2019t cheated on my boyfriend!\\nC: I have something to confess... I\\u2019m sorry Veronica, I lied.\\nB: Wait... what? What do do you mean?\\nC: I lied. You aren\\u2019t even pregnant; there\\u2019s no bun in the oven. I was just so overwhelmed with jealousy that I couldn\\u2019t help myself. Veronica I love you!\\nB: What are you talking about!!! Who are you?\\nC: It\\u2019s me! Daniel, don\\u2019t you remember me? From high\\nschool. I sat behind you every day in class! I used to go to every football game and watch you in the cheerleading squad!\\nB: You are insane! We never even spoke! Why did you lie like that to my boyfriend?\\nC: Because Veronica... It\\u2019s not fair! I love you; I have since the first day we met! Everything was going fine until that jerk came into the picture and ruined everything! I went to med school and became a doctor for you! You always said how you wanted to marry a doctor! You will be mine now... one way or another...\\nA: I heard everything, you lying bastard! Get your hands off her!\\n', u'keyidfs': [[u'veronica', 0.0674306498265544], [u'lied', 0.05146432659568208], [u'doctor', 0.04281175212568438], [u'boyfriend', 0.04125088886796257], [u'everything', 0.034341259426207894], [u'arent', 0.03033744526125926], [u'jealousy', 0.029913608709326824], [u'cheerleading', 0.029703488910053297], [u'cheated', 0.029514188852500647], [u'confess', 0.029343575857916013]], u'_id': ObjectId('570995d2d46bf97f59c4ae9a'), u'title': u'Elementary \\u2010 Daily Life \\u2010 I\\u2019m Sorry I Love You VI (C0064)'}\n",
      "{u'content': u'\\nA: Very good. Now, I have a couple of final questions.\\nB: I hope they\\u2019re not too hard!\\nA: Well, why should we hire you?\\nB: I think that I would be a perfect fit in this company. I have a unique combination of strong technical acumen, and outstanding soft skills; you know, I excel at building strong, long-term customer relationships. For example, when I headed the customer support department in my previous company, our team solved about seventy percent of our customers\\u2019 problems. I decided that we needed better information and technical preparation on our products, so after I implemented a series of training sessions in coordination with our technical department, we were able to solve ninety percent of our customers\\u2019 issues. Given the opportunity, I could bring this kind of success to this company.\\nA: Impressive! So, what would you consider to be your greatest weakness?\\nB: To be honest, I struggle with organization and time management. Punctuality has never been a strength of mine. I find it hard to organize my time efficiently. I have actually addressed this weakness recently, by attending a workshop on efficient time management. It helped me a lot, by providing me with great insights on how to get organized and use my time efficiently, so I think I\\u2019m getting better now.\\nA: Great... Well, let me tell you that I am very pleased with this interview. We are short-listing our candidates this week, and next week we will inform our short listed candidates of the day and time for a second interview with\\n17\\nour CEO.\\nB: Great, thanks a lot! I hope to hear from you! Good bye. Elementary \\u2010 The Office \\u2010 Calling The Office\\n', u'keyidfs': [[u'weakness', 0.03834767969525993], [u'efficiently', 0.037369746223717484], [u'technical', 0.03207680382918752], [u'candidates', 0.03159707785011623], [u'shortlisting', 0.03158859702683418], [u'our', 0.02796864298761177], [u'percent', 0.02793259096616169], [u'punctuality', 0.027220445521612204], [u'acumen', 0.02636036679212391], [u'interview', 0.022777174051324393]], u'_id': ObjectId('570995e6d46bf97f59c4aec3'), u'title': u'Elementary \\u2010 The Office \\u2010 Job Interview III (C0065)'}\n",
      "article title: Elementary ‐ Difficult Customer (B0001) exists\n",
      "article title: Elementary ‐ Calling In Sick (B0002) exists\n",
      "article title: Elementary ‐Daily Life ‐ Hotel Upgrade (C0003) exists\n",
      "article title: Elementary ‐The Office ‐ I need an assistant! (C0004) exists\n",
      "article title: Elementary ‐Daily Life ‐ Cut In Line (C0005) exists\n",
      "article title: Elementary ‐ The Weekend ‐ Road Trip (C0006) exists\n",
      "article title: Elementary ‐ The Office ‐ Virus! (C0007) exists\n",
      "article title: Elementary ‐ Daily Life ‐ What’s your name again? (C0008) exists\n",
      "article title: Elementary ‐ The Weekend ‐ Silence please! (C0009) exists\n",
      "article title: Elementary ‐ The Office ‐ Driving Sales (C0010) exists\n",
      "article title: Elementary ‐ Daily Life ‐ New Guy in Town (C0011) exists\n",
      "article title: Elementary ‐ Daily Life ‐ Cleaning the House (C0012) exists\n",
      "article title: Elementary ‐ The Office ‐ Out Of Control Spending (C0013) exists\n",
      "article title: Elementary ‐ I’m in Debt (B0014) exists\n",
      "article title: Elementary ‐ Daily Life ‐ I’m sorry, I love you (C0015) exists\n",
      "article title: Elementary ‐ Turn left here! (B0016) exists\n",
      "article title: Elementary ‐ Here Comes the Bride (B0017) exists\n",
      "article title: Elementary ‐ Upper‐Intermediate ‐ Protest! (D0018) exists\n",
      "article title: Elementary ‐ The Weekend ‐ Christmas Chronicles I (C0019) exists\n",
      "article title: Elementary ‐ I Can See Clearly Now (B0020) exists\n",
      "article title: Elementary ‐The Office ‐ What Do You Do? (C0021) exists\n",
      "article title: Elementary ‐The Weekend ‐ Christmas Chronicles II (C0022) exists\n",
      "article title: Elementary ‐ Making an Appointment (B0023) exists\n",
      "article title: Elementary ‐ Where should we eat? (B0024) exists\n",
      "article title: Elementary ‐Upper‐Intermediate ‐ Planning For The Worst (D0025) exists\n",
      "article title: Elementary ‐ New Year Resolution (B0026) exists\n",
      "article title: Elementary ‐ Asking for Time Off (B0027) exists\n",
      "article title: Elementary ‐Daily Life ‐ I’m Sorry, I Love You II (C0028) exists\n",
      "article title: Elementary ‐Advanced ‐ Investing in Emerging Markets (E0029) exists\n",
      "article title: Elementary ‐Daily Life ‐ New Guy in Town II (C0030) exists\n",
      "article title: Elementary ‐ Canceling an Appointment (B0031) exists\n",
      "article title: Elementary‐ Daily Life ‐ Opening a Bank Account (C0032) exists\n",
      "article title: Elementary ‐ Foul! (B0033) exists\n",
      "article title: Elementary‐ Upper‐Intermediate ‐ Live from Washington (D0034) exists\n",
      "article title: Elementary ‐ Daily Life ‐ He’s not a Good Fit (C0035) exists\n",
      "article title: Elementary ‐ I’m Sorry, I Love You III (B0036) exists\n",
      "article title: Elementary ‐ Intermediate ‐ Chinese New Year (C0037) exists\n",
      "article title: Elementary ‐ Daily Life ‐ Buying a Car (C0038) exists\n",
      "article title: Elementary ‐ My New Boyfriend (B0039) exists\n",
      "article title: Elementary ‐ Can I ask you a favor? (B0040) exists\n",
      "article title: Elementary ‐ The Weekend ‐ Movie Trailer (C0041) exists\n",
      "article title: Elementary ‐ I Need More Time (B0042) exists\n",
      "article title: Elementary ‐ Daily Life ‐ Applying for a Visa (C0043) exists\n",
      "article title: Elementary ‐ Small Talk (B0044) exists\n",
      "article title: Elementary‐Intermediate‐I’m Sorry I love You IV (C0045) exists\n",
      "article title: Elementary‐Uppe‐Intermediate‐EmergencyRoom (D046) exists\n",
      "article title: Elementary ‐ Advanced ‐ Just In Time Strategy (E0047) exists\n",
      "article title: Elementary ‐ Intermediate ‐ Carnival in Rio! (C0048) exists\n",
      "article title: Elementary ‐ Daily Life ‐ Daddy Please! (C0049) exists\n",
      "article title: Elementary ‐ Daily Life ‐ New Guy In Town III (C0050) exists\n",
      "article title: Elementary ‐ The Weekend ‐ What a Bargain! (C0051) exists\n",
      "article title: Elementary ‐ Daily Life ‐ Pizza Delivary (C0052) exists\n",
      "article title: Elementary ‐ The Weekend ‐ Head Chef (C0053) exists\n",
      "article title: Elementary‐Intermediate‐I’m Sorry I Love You V (C0054) exists\n",
      "article title: Elementary ‐ Intermediate ‐ Hockey (C0055) exists\n",
      "article title: (C0056) exists\n",
      "article title: Elementary ‐ The Office ‐ Malfunction (C0057) exists\n",
      "article title: Elementary ‐ Daily Life ‐ This Is Your Captain Speaking (C0058) exists\n",
      "article title: Elementary ‐ Advanced ‐ Job Interview I (E0059) exists\n",
      "article title: Elementary‐ Intermediate ‐ New Guy in Town IV (C0060) exists\n",
      "article title: Elementary ‐ The Weekend ‐ Swim faster! (C0061) exists\n",
      "article title: Elementary ‐ The Office ‐ Job Interview II (C0062) exists\n",
      "article title: Elementary ‐ The Office ‐ Receptionist (C0063) exists\n",
      "article title: Elementary ‐ Daily Life ‐ I’m Sorry I Love You VI (C0064) exists\n",
      "article title: Elementary ‐ The Office ‐ Job Interview III (C0065) exists\n",
      "=== Start Processing ===\n",
      "title: (C0066)\n",
      "content: \n",
      "A: Ello-hay, Aniel-day eaking-spay, ow-hay ay-may I elp-hay ou-yay\n",
      "B: Ay-hay, Aniel-day, Ulie-jay ere-hay\n",
      "A: Ay-hay, Ulie-jay, ow-hay are ou-yay?\n",
      "B: Actually, Im eeling-fay ite-quay ill otday-tay.\n",
      "A: Im orry-say oo-tay ear-hay, at-they. ut-way is ong-wray?\n",
      "B: I ink-thay Im oming-cay own-day ith-way uhthey oo-flay. I ave-hay a eadache-hay, a ore-say oat-thray and Im eeling-fay ighly-slay everishfay.\n",
      "A: I ee-say. O-say oure-yay alling-cay in ick-say?\n",
      "B: Es-yay, I uz-way oping-hay oo-tay ake-tay uh-they ay-day off oo-tay eecover-ray.\n",
      "A: Ok, en-they. Ay-tray and et-gay ome-say est-ray.\n",
      "\n",
      "checking word: and\n",
      "checking word: omesay\n",
      "checking word: atthey\n",
      "checking word: ayhay\n",
      "checking word: avehay\n",
      "checking word: elphay\n",
      "checking word: allingcay\n",
      "checking word: is\n",
      "checking word: esyay\n",
      "checking word: oresay\n",
      "checking word: ooflay\n",
      "checking word: everishfay\n",
      "did not find\n"
     ]
    },
    {
     "ename": "AttributeError",
     "evalue": "'NoneType' object has no attribute 'group'",
     "output_type": "error",
     "traceback": [
      "\u001b[1;31m---------------------------------------------------------------------------\u001b[0m",
      "\u001b[1;31mAttributeError\u001b[0m                            Traceback (most recent call last)",
      "\u001b[1;32m<ipython-input-3-c9b281ac7a75>\u001b[0m in \u001b[0;36m<module>\u001b[1;34m()\u001b[0m\n\u001b[0;32m     15\u001b[0m \u001b[1;33m\u001b[0m\u001b[0m\n\u001b[0;32m     16\u001b[0m     \u001b[0mcounts\u001b[0m \u001b[1;33m=\u001b[0m \u001b[0mwordCount\u001b[0m\u001b[1;33m(\u001b[0m\u001b[0marticles\u001b[0m\u001b[1;33m[\u001b[0m\u001b[1;36m2\u001b[0m\u001b[1;33m*\u001b[0m\u001b[0mi\u001b[0m\u001b[1;33m+\u001b[0m\u001b[1;36m2\u001b[0m\u001b[1;33m]\u001b[0m\u001b[1;33m)\u001b[0m\u001b[1;33m\u001b[0m\u001b[0m\n\u001b[1;32m---> 17\u001b[1;33m     \u001b[0midfs\u001b[0m \u001b[1;33m=\u001b[0m \u001b[0mcalidf\u001b[0m\u001b[1;33m(\u001b[0m\u001b[0mcounts\u001b[0m\u001b[1;33m)\u001b[0m\u001b[1;33m\u001b[0m\u001b[0m\n\u001b[0m\u001b[0;32m     18\u001b[0m     \u001b[0msorted_tuple\u001b[0m \u001b[1;33m=\u001b[0m \u001b[0msorted\u001b[0m\u001b[1;33m(\u001b[0m\u001b[0midfs\u001b[0m\u001b[1;33m.\u001b[0m\u001b[0mitems\u001b[0m\u001b[1;33m(\u001b[0m\u001b[1;33m)\u001b[0m\u001b[1;33m,\u001b[0m \u001b[0mkey\u001b[0m\u001b[1;33m=\u001b[0m\u001b[0moperator\u001b[0m\u001b[1;33m.\u001b[0m\u001b[0mitemgetter\u001b[0m\u001b[1;33m(\u001b[0m\u001b[1;36m1\u001b[0m\u001b[1;33m)\u001b[0m\u001b[1;33m,\u001b[0m \u001b[0mreverse\u001b[0m\u001b[1;33m=\u001b[0m\u001b[0mTrue\u001b[0m\u001b[1;33m)\u001b[0m\u001b[1;33m\u001b[0m\u001b[0m\n\u001b[0;32m     19\u001b[0m     \u001b[0marticle\u001b[0m\u001b[1;33m[\u001b[0m\u001b[1;34m'keyidfs'\u001b[0m\u001b[1;33m]\u001b[0m\u001b[1;33m=\u001b[0m\u001b[0msorted_tuple\u001b[0m\u001b[1;33m[\u001b[0m\u001b[1;36m0\u001b[0m\u001b[1;33m:\u001b[0m\u001b[1;36m10\u001b[0m\u001b[1;33m]\u001b[0m\u001b[1;33m\u001b[0m\u001b[0m\n",
      "\u001b[1;32m/root/jupyter/idf.pyc\u001b[0m in \u001b[0;36mcalidf\u001b[1;34m(counts)\u001b[0m\n\u001b[0;32m     35\u001b[0m         \u001b[1;32mif\u001b[0m \u001b[0mlen\u001b[0m\u001b[1;33m(\u001b[0m\u001b[0mword\u001b[0m\u001b[1;33m)\u001b[0m \u001b[1;33m==\u001b[0m \u001b[1;36m0\u001b[0m\u001b[1;33m:\u001b[0m\u001b[1;33m\u001b[0m\u001b[0m\n\u001b[0;32m     36\u001b[0m             \u001b[1;32mcontinue\u001b[0m\u001b[1;33m\u001b[0m\u001b[0m\n\u001b[1;32m---> 37\u001b[1;33m         \u001b[0mwordArtCount\u001b[0m\u001b[1;33m=\u001b[0m\u001b[0mgetCachedKeywordCount\u001b[0m\u001b[1;33m(\u001b[0m\u001b[0mword\u001b[0m\u001b[1;33m)\u001b[0m\u001b[1;33m\u001b[0m\u001b[0m\n\u001b[0m\u001b[0;32m     38\u001b[0m         \u001b[0mtfidf\u001b[0m \u001b[1;33m=\u001b[0m \u001b[0mmath\u001b[0m\u001b[1;33m.\u001b[0m\u001b[0mlog\u001b[0m\u001b[1;33m(\u001b[0m\u001b[0mfloat\u001b[0m\u001b[1;33m(\u001b[0m\u001b[0mtotalArticleCount\u001b[0m\u001b[1;33m)\u001b[0m\u001b[1;33m/\u001b[0m\u001b[1;33m(\u001b[0m\u001b[0mwordArtCount\u001b[0m\u001b[1;33m+\u001b[0m\u001b[1;36m1\u001b[0m\u001b[1;33m)\u001b[0m\u001b[1;33m)\u001b[0m \u001b[1;33m*\u001b[0m\u001b[0mcount\u001b[0m\u001b[1;33m\u001b[0m\u001b[0m\n\u001b[0;32m     39\u001b[0m         \u001b[0mrst\u001b[0m\u001b[1;33m[\u001b[0m\u001b[0mword\u001b[0m\u001b[1;33m]\u001b[0m \u001b[1;33m=\u001b[0m \u001b[0mtfidf\u001b[0m\u001b[1;33m\u001b[0m\u001b[0m\n",
      "\u001b[1;32m/root/jupyter/idf.pyc\u001b[0m in \u001b[0;36mgetCachedKeywordCount\u001b[1;34m(word)\u001b[0m\n\u001b[0;32m     22\u001b[0m     \u001b[1;32mif\u001b[0m \u001b[0mcachedWord\u001b[0m\u001b[1;33m:\u001b[0m\u001b[1;33m\u001b[0m\u001b[0m\n\u001b[0;32m     23\u001b[0m         \u001b[1;32mreturn\u001b[0m \u001b[0mcachedWord\u001b[0m\u001b[1;33m[\u001b[0m\u001b[1;34m\"count\"\u001b[0m\u001b[1;33m]\u001b[0m\u001b[1;33m\u001b[0m\u001b[0m\n\u001b[1;32m---> 24\u001b[1;33m     \u001b[0mcount\u001b[0m \u001b[1;33m=\u001b[0m \u001b[0mgetKeywordCount\u001b[0m\u001b[1;33m(\u001b[0m\u001b[0mword\u001b[0m\u001b[1;33m)\u001b[0m\u001b[1;33m\u001b[0m\u001b[0m\n\u001b[0m\u001b[0;32m     25\u001b[0m     \u001b[0mwordCountCache\u001b[0m\u001b[1;33m.\u001b[0m\u001b[0minsert\u001b[0m\u001b[1;33m(\u001b[0m\u001b[1;33m{\u001b[0m\u001b[1;34m\"word\"\u001b[0m\u001b[1;33m:\u001b[0m\u001b[0mword\u001b[0m\u001b[1;33m,\u001b[0m \u001b[1;34m\"count\"\u001b[0m\u001b[1;33m:\u001b[0m\u001b[0mcount\u001b[0m\u001b[1;33m}\u001b[0m\u001b[1;33m)\u001b[0m\u001b[1;33m\u001b[0m\u001b[0m\n\u001b[0;32m     26\u001b[0m     \u001b[1;32mreturn\u001b[0m \u001b[0mcount\u001b[0m\u001b[1;33m\u001b[0m\u001b[0m\n",
      "\u001b[1;32m/root/jupyter/google_utils.pyc\u001b[0m in \u001b[0;36mgetKeywordCount\u001b[1;34m(keyword)\u001b[0m\n\u001b[0;32m     30\u001b[0m     \u001b[0mregex\u001b[0m \u001b[1;33m=\u001b[0m \u001b[1;34m'([0-9,]+)'\u001b[0m\u001b[1;33m\u001b[0m\u001b[0m\n\u001b[0;32m     31\u001b[0m \u001b[1;33m\u001b[0m\u001b[0m\n\u001b[1;32m---> 32\u001b[1;33m     \u001b[0mcountStr\u001b[0m \u001b[1;33m=\u001b[0m \u001b[0msearch\u001b[0m\u001b[1;33m(\u001b[0m\u001b[0mresultStr\u001b[0m\u001b[1;33m,\u001b[0m \u001b[0mprefix\u001b[0m\u001b[1;33m+\u001b[0m\u001b[0mregex\u001b[0m\u001b[1;33m+\u001b[0m\u001b[0msuffix\u001b[0m\u001b[1;33m)\u001b[0m\u001b[1;33m.\u001b[0m\u001b[0mgroup\u001b[0m\u001b[1;33m(\u001b[0m\u001b[1;36m1\u001b[0m\u001b[1;33m)\u001b[0m\u001b[1;33m.\u001b[0m\u001b[0mreplace\u001b[0m\u001b[1;33m(\u001b[0m\u001b[1;34m\",\"\u001b[0m\u001b[1;33m,\u001b[0m \u001b[1;34m\"\"\u001b[0m\u001b[1;33m)\u001b[0m\u001b[1;33m\u001b[0m\u001b[0m\n\u001b[0m\u001b[0;32m     33\u001b[0m     \u001b[1;32mreturn\u001b[0m \u001b[0mint\u001b[0m\u001b[1;33m(\u001b[0m\u001b[0mcountStr\u001b[0m\u001b[1;33m)\u001b[0m\u001b[1;33m\u001b[0m\u001b[0m\n\u001b[0;32m     34\u001b[0m \u001b[1;33m\u001b[0m\u001b[0m\n",
      "\u001b[1;31mAttributeError\u001b[0m: 'NoneType' object has no attribute 'group'"
     ]
    }
   ],
   "source": [
    "from idf import calidf\n",
    "from wordCount import wordCount\n",
    "import operator\n",
    "\n",
    "for i in range(len(articles)/2):\n",
    "    title = articles[2*i+1]\n",
    "    content = articles[2*i+2]\n",
    "    if articlesDb.find_one({'title':title}):\n",
    "        print 'article title: ' + title + ' exists'\n",
    "        continue\n",
    "    print '=== Start Processing ==='\n",
    "    print 'title: ' + title\n",
    "    print 'content: ' + content\n",
    "    article = {\"title\":title, \"content\":content}\n",
    "    \n",
    "    counts = wordCount(articles[2*i+2])\n",
    "    idfs = calidf(counts)\n",
    "    sorted_tuple = sorted(idfs.items(), key=operator.itemgetter(1), reverse=True)\n",
    "    article['keyidfs']=sorted_tuple[0:10]\n",
    "    \n",
    "    articlesDb.insert_one(article)\n",
    "    print '=== End Processing ==='"
   ]
  },
  {
   "cell_type": "markdown",
   "metadata": {},
   "source": [
    "a = articlesDb.find_one({'title':'123'})\n",
    "print a"
   ]
  },
  {
   "cell_type": "code",
   "execution_count": 3,
   "metadata": {
    "collapsed": false
   },
   "outputs": [
    {
     "data": {
      "text/plain": [
       "2218"
      ]
     },
     "execution_count": 3,
     "metadata": {},
     "output_type": "execute_result"
    }
   ],
   "source": [
    "wordCountCache.count()"
   ]
  },
  {
   "cell_type": "code",
   "execution_count": null,
   "metadata": {
    "collapsed": true
   },
   "outputs": [],
   "source": []
  }
 ],
 "metadata": {
  "kernelspec": {
   "display_name": "Python 2",
   "language": "python",
   "name": "python2"
  },
  "language_info": {
   "codemirror_mode": {
    "name": "ipython",
    "version": 2
   },
   "file_extension": ".py",
   "mimetype": "text/x-python",
   "name": "python",
   "nbconvert_exporter": "python",
   "pygments_lexer": "ipython2",
   "version": "2.7.5"
  }
 },
 "nbformat": 4,
 "nbformat_minor": 0
}
